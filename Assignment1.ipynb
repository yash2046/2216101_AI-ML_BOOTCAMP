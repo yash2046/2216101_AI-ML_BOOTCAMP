{
  "nbformat": 4,
  "nbformat_minor": 0,
  "metadata": {
    "colab": {
      "name": "assignment1.ipynb",
      "provenance": [],
      "authorship_tag": "ABX9TyPunnaqOa7IAkHkyz/zdvI5",
      "include_colab_link": true
    },
    "kernelspec": {
      "name": "python3",
      "display_name": "Python 3"
    },
    "language_info": {
      "name": "python"
    }
  },
  "cells": [
    {
      "cell_type": "markdown",
      "metadata": {
        "id": "view-in-github",
        "colab_type": "text"
      },
      "source": [
        "<a href=\"https://colab.research.google.com/github/yash2046/2216101_AI-ML_BOOTCAMP/blob/main/Assignment1.ipynb\" target=\"_parent\"><img src=\"https://colab.research.google.com/assets/colab-badge.svg\" alt=\"Open In Colab\"/></a>"
      ]
    },
    {
      "cell_type": "code",
      "execution_count": 21,
      "metadata": {
        "id": "awRMJL30tsTH"
      },
      "outputs": [],
      "source": [
        ""
      ]
    },
    {
      "cell_type": "markdown",
      "source": [
        "Q1)Implement the methods of String with examples."
      ],
      "metadata": {
        "id": "_kG3nEhUuLr-"
      }
    },
    {
      "cell_type": "code",
      "source": [
        "str='hello'\n",
        "#indexing\n",
        "print(str[-1])\n",
        "print(str[3])\n",
        "#slicing \n",
        "print(str[:])\n",
        "#strip()\n",
        "s1='  yashwanth  '\n",
        "print(s1.strip())\n",
        "print(s1.lstrip()) #left strip\n",
        "print(s1.rstrip()) #right strip\n",
        "s2='welcome'\n",
        "print(s2.upper()) \n",
        "print(s2.lower())\n",
        "print(s2.capitalize()) \n",
        "print(s2.swapcase())\n",
        "print(s2.title())\n"
      ],
      "metadata": {
        "colab": {
          "base_uri": "https://localhost:8080/"
        },
        "id": "2ZZjy432vWOv",
        "outputId": "f0f4cf3f-f8ad-49f0-caf2-17daecc70d48"
      },
      "execution_count": 22,
      "outputs": [
        {
          "output_type": "stream",
          "name": "stdout",
          "text": [
            "o\n",
            "l\n",
            "hello\n",
            "yashwanth\n",
            "yashwanth  \n",
            "  yashwanth\n",
            "WELCOME\n",
            "welcome\n",
            "Welcome\n",
            "WELCOME\n",
            "Welcome\n"
          ]
        }
      ]
    },
    {
      "cell_type": "markdown",
      "source": [
        "Q2) Implement the methods of List with examples."
      ],
      "metadata": {
        "id": "aWg2TYhh4W4q"
      }
    },
    {
      "cell_type": "code",
      "source": [
        "l=[5,2,8,7]\n",
        "print(l)\n",
        "print(len(l))\n",
        "l.append('hii')\n",
        "print(l)\n",
        "l.extend([1,3,6])\n",
        "print(l)\n",
        "l.insert(4,9)\n",
        "print(l)\n",
        "l.pop(5)\n",
        "print(l)\n",
        "l.remove(7)\n",
        "print(l)\n",
        "l.reverse()\n",
        "print(l)\n",
        "l.sort()\n",
        "print(l)\n",
        "l.clear()\n",
        "print(l)"
      ],
      "metadata": {
        "id": "dOjV54VL0-qb",
        "colab": {
          "base_uri": "https://localhost:8080/"
        },
        "outputId": "fbf8f5c0-102b-4356-9bd5-cd592c2d323c"
      },
      "execution_count": 23,
      "outputs": [
        {
          "output_type": "stream",
          "name": "stdout",
          "text": [
            "[5, 2, 8, 7]\n",
            "4\n",
            "[5, 2, 8, 7, 'hii']\n",
            "[5, 2, 8, 7, 'hii', 1, 3, 6]\n",
            "[5, 2, 8, 7, 9, 'hii', 1, 3, 6]\n",
            "[5, 2, 8, 7, 9, 1, 3, 6]\n",
            "[5, 2, 8, 9, 1, 3, 6]\n",
            "[6, 3, 1, 9, 8, 2, 5]\n",
            "[1, 2, 3, 5, 6, 8, 9]\n",
            "[]\n"
          ]
        }
      ]
    },
    {
      "cell_type": "markdown",
      "source": [
        "Q3)Implement the methods of Tuple with examples\n",
        "\n"
      ],
      "metadata": {
        "id": "1OwJEhySK_3S"
      }
    },
    {
      "cell_type": "code",
      "source": [
        "t=('yash','sandy','rome',46,65)\n",
        "print(t)\n",
        "print(len(t))\n",
        "t1=(10,56,30,101,30,36)\n",
        "#indexing\n",
        "print(t1[0])\n",
        "print(t1[-2])\n",
        "#slicing \n",
        "print(t1[1:5])\n",
        "print(max(t1))\n",
        "print(min(t1))\n",
        "print(t1.index(101))\n",
        "print(t1.count(30))"
      ],
      "metadata": {
        "colab": {
          "base_uri": "https://localhost:8080/"
        },
        "id": "O0wxQQeKLF6m",
        "outputId": "8409c723-f5a5-4219-8b3d-ff40e2371a69"
      },
      "execution_count": 24,
      "outputs": [
        {
          "output_type": "stream",
          "name": "stdout",
          "text": [
            "('yash', 'sandy', 'rome', 46, 65)\n",
            "5\n",
            "10\n",
            "30\n",
            "(56, 30, 101, 30)\n",
            "101\n",
            "10\n",
            "3\n",
            "2\n"
          ]
        }
      ]
    },
    {
      "cell_type": "markdown",
      "source": [
        "Q4) Implement the methods of Dictionary with examples."
      ],
      "metadata": {
        "id": "wYJHk3ogMdYc"
      }
    },
    {
      "cell_type": "code",
      "source": [
        "dic={1:1,2:4,3:9,4:196,5:125,'name':'yash','roll':46,'address':'hnk'}\n",
        "print(dic)\n",
        "print(dic.items())\n",
        "print(dic.keys())\n",
        "print(dic.popitem())\n",
        "print(dic.values())\n",
        "print(dic.get('name'))"
      ],
      "metadata": {
        "colab": {
          "base_uri": "https://localhost:8080/"
        },
        "id": "laB7QXSuMeS5",
        "outputId": "e93dee97-445b-4645-e4ed-dafc6c2c3300"
      },
      "execution_count": 25,
      "outputs": [
        {
          "output_type": "stream",
          "name": "stdout",
          "text": [
            "{1: 1, 2: 4, 3: 9, 4: 196, 5: 125, 'name': 'yash', 'roll': 46, 'address': 'hnk'}\n",
            "dict_items([(1, 1), (2, 4), (3, 9), (4, 196), (5, 125), ('name', 'yash'), ('roll', 46), ('address', 'hnk')])\n",
            "dict_keys([1, 2, 3, 4, 5, 'name', 'roll', 'address'])\n",
            "('address', 'hnk')\n",
            "dict_values([1, 4, 9, 196, 125, 'yash', 46])\n",
            "yash\n"
          ]
        }
      ]
    },
    {
      "cell_type": "markdown",
      "source": [
        "Q5) Implement the methods of Set with examples."
      ],
      "metadata": {
        "id": "TxDb6mmLM-rI"
      }
    },
    {
      "cell_type": "code",
      "source": [
        "s={1,2,3,4}\n",
        "s.add(6)\n",
        "print(s)\n",
        "s.update([6,7,8])\n",
        "print(s)\n",
        "s.remove(4)\n",
        "print(s)\n",
        "s.discard(6)\n",
        "print(s)\n",
        "s1={4,5,1,2,9,10}\n",
        "#union\n",
        "print(s|s1)\n",
        "print(s.union(s1))\n",
        "print(s1.union(s))\n",
        "#intersection\n",
        "print(s&s1)\n",
        "print(s.intersection(s1))\n",
        "print(s1.intersection(s))\n",
        "#difference\n",
        "print(s-s1)\n",
        "print(s.difference(s1))"
      ],
      "metadata": {
        "colab": {
          "base_uri": "https://localhost:8080/"
        },
        "id": "tn-hiw4TM8tg",
        "outputId": "ec1b784b-7aa0-4597-d2a3-f23a4c72a91b"
      },
      "execution_count": 26,
      "outputs": [
        {
          "output_type": "stream",
          "name": "stdout",
          "text": [
            "{1, 2, 3, 4, 6}\n",
            "{1, 2, 3, 4, 6, 7, 8}\n",
            "{1, 2, 3, 6, 7, 8}\n",
            "{1, 2, 3, 7, 8}\n",
            "{1, 2, 3, 4, 5, 7, 8, 9, 10}\n",
            "{1, 2, 3, 4, 5, 7, 8, 9, 10}\n",
            "{1, 2, 3, 4, 5, 7, 8, 9, 10}\n",
            "{1, 2}\n",
            "{1, 2}\n",
            "{1, 2}\n",
            "{8, 3, 7}\n",
            "{8, 3, 7}\n"
          ]
        }
      ]
    },
    {
      "cell_type": "markdown",
      "source": [
        "Q6)Write a python program to convert Decimal to Binary, Octal and Hexadecimal with direct method."
      ],
      "metadata": {
        "id": "By8GTVchNbMN"
      }
    },
    {
      "cell_type": "code",
      "source": [
        "num=int(input(\"Enter a number:\"))\n",
        "print(bin(num))\n",
        "print(oct(num))\n",
        "print(hex(num))"
      ],
      "metadata": {
        "colab": {
          "base_uri": "https://localhost:8080/"
        },
        "id": "M-_wol3qNVS4",
        "outputId": "6cf244e9-b239-4e6c-8f65-da7284c14af8"
      },
      "execution_count": 27,
      "outputs": [
        {
          "output_type": "stream",
          "name": "stdout",
          "text": [
            "Enter a number:12\n",
            "0b1100\n",
            "0o14\n",
            "0xc\n"
          ]
        }
      ]
    },
    {
      "cell_type": "markdown",
      "source": [
        "Q7) Implement Arithmetic operators with examples"
      ],
      "metadata": {
        "id": "trozj3CvNpbY"
      }
    },
    {
      "cell_type": "code",
      "source": [
        "a=int(input(\"Enter a number:\"))\n",
        "b=int(input(\"Enter a number:\"))\n",
        "print(a+b)\n",
        "print(abs(a-b))\n",
        "print(a*b)\n",
        "print(a/b)\n",
        "print(a%b)\n",
        "print(a**b)\n",
        "print(a//b)"
      ],
      "metadata": {
        "colab": {
          "base_uri": "https://localhost:8080/"
        },
        "id": "NGvaJh4INmDi",
        "outputId": "b5990fdc-b995-49d1-c091-7bd0143c0546"
      },
      "execution_count": 28,
      "outputs": [
        {
          "output_type": "stream",
          "name": "stdout",
          "text": [
            "Enter a number:50\n",
            "Enter a number:41\n",
            "91\n",
            "9\n",
            "2050\n",
            "1.2195121951219512\n",
            "9\n",
            "4547473508864641189575195312500000000000000000000000000000000000000000\n",
            "1\n"
          ]
        }
      ]
    },
    {
      "cell_type": "markdown",
      "source": [
        "Q8) Implement Assignment operators with examples."
      ],
      "metadata": {
        "id": "mj6y3yPFOLmy"
      }
    },
    {
      "cell_type": "code",
      "source": [
        "x=5\n",
        "y=46\n",
        "print(x)\n",
        "x+=3\n",
        "print(x)\n",
        "x-=3\n",
        "print(x)\n",
        "x*=3\n",
        "print(x)\n",
        "x/=3\n",
        "print(x)\n",
        "x%=3\n",
        "print(x)\n",
        "y//=3\n",
        "print(y)\n",
        "y**=3\n",
        "print(y)"
      ],
      "metadata": {
        "colab": {
          "base_uri": "https://localhost:8080/"
        },
        "id": "oRVAZjbpOCiD",
        "outputId": "3b7014c4-2747-468e-974f-a7010d309375"
      },
      "execution_count": 29,
      "outputs": [
        {
          "output_type": "stream",
          "name": "stdout",
          "text": [
            "5\n",
            "8\n",
            "5\n",
            "15\n",
            "5.0\n",
            "2.0\n",
            "15\n",
            "3375\n"
          ]
        }
      ]
    },
    {
      "cell_type": "markdown",
      "source": [
        "Q9) Implement Comparison operators with examples."
      ],
      "metadata": {
        "id": "9GBpoRdLOp6r"
      }
    },
    {
      "cell_type": "code",
      "source": [
        "x1=\"yes\"\n",
        "y1=\"no\"\n",
        "print(x1==y1)\n",
        "print(x1!=y1)\n",
        "print(x1>y1)\n",
        "print(x1<y1)\n",
        "print(x1>=y1)\n",
        "print(x1<=y1)"
      ],
      "metadata": {
        "colab": {
          "base_uri": "https://localhost:8080/"
        },
        "id": "l_xZ_Q2LO5Kt",
        "outputId": "822bed71-f22d-4b9e-b83c-feb4797d6c00"
      },
      "execution_count": 30,
      "outputs": [
        {
          "output_type": "stream",
          "name": "stdout",
          "text": [
            "False\n",
            "True\n",
            "True\n",
            "False\n",
            "True\n",
            "False\n"
          ]
        }
      ]
    },
    {
      "cell_type": "markdown",
      "source": [
        "Q10) Implement Logical operators with examples."
      ],
      "metadata": {
        "id": "VA0ANPXzPEpa"
      }
    },
    {
      "cell_type": "code",
      "source": [
        "a1=101\n",
        "b1=50\n",
        "print(a1==50 and b1==101)\n",
        "print(a1==101 or b1==50)\n",
        "print(not a1==b1)"
      ],
      "metadata": {
        "colab": {
          "base_uri": "https://localhost:8080/"
        },
        "id": "nNaT4fg2PBOZ",
        "outputId": "3a31512a-8a27-48ea-ed70-4e224df81c7e"
      },
      "execution_count": 31,
      "outputs": [
        {
          "output_type": "stream",
          "name": "stdout",
          "text": [
            "False\n",
            "True\n",
            "True\n"
          ]
        }
      ]
    },
    {
      "cell_type": "markdown",
      "source": [
        "Q11)Implement Bitwise operators with examples"
      ],
      "metadata": {
        "id": "wTWum8gAPXc4"
      }
    },
    {
      "cell_type": "code",
      "source": [
        "c=1\n",
        "d=2\n",
        "print(c==23 & d==46)\n",
        "print(c&d)\n",
        "print(c==25|d==20)\n",
        "print(c&d)\n",
        "print(c^d)\n",
        "print(~c)\n",
        "print(c>>2)\n",
        "print(d<<2)"
      ],
      "metadata": {
        "colab": {
          "base_uri": "https://localhost:8080/"
        },
        "id": "Q0WZepRRPWcR",
        "outputId": "13945317-55b3-4243-cbc7-82c36fe0653d"
      },
      "execution_count": 32,
      "outputs": [
        {
          "output_type": "stream",
          "name": "stdout",
          "text": [
            "False\n",
            "0\n",
            "False\n",
            "0\n",
            "3\n",
            "-2\n",
            "0\n",
            "8\n"
          ]
        }
      ]
    },
    {
      "cell_type": "markdown",
      "source": [
        "Q12)Implement Membership operators with examples."
      ],
      "metadata": {
        "id": "YF3W0CiaQ1is"
      }
    },
    {
      "cell_type": "code",
      "source": [
        "st1=\"hello world\"\n",
        "print('h' in st1)\n",
        "print('a' in st1)\n",
        "print(\"llo\" in st1)\n",
        "print('h' not in st1)\n",
        "print('a' not in st1)\n",
        "print(\"llo\" not in st1)"
      ],
      "metadata": {
        "colab": {
          "base_uri": "https://localhost:8080/"
        },
        "id": "Kh9YEhnBQZf-",
        "outputId": "8f4c7f0f-c64b-4971-be81-9b13e95314ef"
      },
      "execution_count": 33,
      "outputs": [
        {
          "output_type": "stream",
          "name": "stdout",
          "text": [
            "True\n",
            "False\n",
            "True\n",
            "False\n",
            "True\n",
            "False\n"
          ]
        }
      ]
    },
    {
      "cell_type": "markdown",
      "source": [
        "Q13)Implement Identity operators with examples"
      ],
      "metadata": {
        "id": "KwmnOiiERLUF"
      }
    },
    {
      "cell_type": "code",
      "source": [
        "e=46\n",
        "f='101'\n",
        "print(e is f)\n",
        "print(e is not f)"
      ],
      "metadata": {
        "colab": {
          "base_uri": "https://localhost:8080/"
        },
        "id": "aOeN1c95RHTd",
        "outputId": "2e3fadf1-ea76-43cd-c942-e84c23618302"
      },
      "execution_count": 34,
      "outputs": [
        {
          "output_type": "stream",
          "name": "stdout",
          "text": [
            "False\n",
            "True\n"
          ]
        }
      ]
    },
    {
      "cell_type": "markdown",
      "source": [
        "Q14)Demonstrate Negative indexing for List and apply slicing."
      ],
      "metadata": {
        "id": "NBDUHM6hRVEH"
      }
    },
    {
      "cell_type": "code",
      "source": [
        "l1=[1,2,3,4,5,46,'hello']\n",
        "# negative indexing\n",
        "print(l1[-1])\n",
        "print(l1[-7])\n",
        "print(l1[-3])\n",
        "#slicing\n",
        "print(l1[1:])\n",
        "print(l1[:])\n",
        "print(l1[::-1])"
      ],
      "metadata": {
        "colab": {
          "base_uri": "https://localhost:8080/"
        },
        "id": "igvI_7i5RTCW",
        "outputId": "ceffeff6-82ab-4b02-804e-307410c1d453"
      },
      "execution_count": 35,
      "outputs": [
        {
          "output_type": "stream",
          "name": "stdout",
          "text": [
            "hello\n",
            "1\n",
            "5\n",
            "[2, 3, 4, 5, 46, 'hello']\n",
            "[1, 2, 3, 4, 5, 46, 'hello']\n",
            "['hello', 46, 5, 4, 3, 2, 1]\n"
          ]
        }
      ]
    },
    {
      "cell_type": "markdown",
      "source": [
        "Q15)Predict the output for the given code snippet and justify the result."
      ],
      "metadata": {
        "id": "p1JEwtwlRod_"
      }
    },
    {
      "cell_type": "code",
      "source": [
        "print( 'A series of characters designated as one object known as a string'[::-1][4::3] )\n",
        "#[::-1] it is for reversing and [4::3] it starts from 4 th index with step size as 3\n",
        "print(\"------------\")\n",
        "print( 'welcome to Python traing program'[3:10][::-1])\n",
        "#[3:10] it starts from 3 rd index and stops at 10 th index and the it will reverse the string"
      ],
      "metadata": {
        "colab": {
          "base_uri": "https://localhost:8080/"
        },
        "id": "FFkspi45RiMT",
        "outputId": "013b0ec6-e110-4014-d9b9-0b2240091408"
      },
      "execution_count": 36,
      "outputs": [
        {
          "output_type": "stream",
          "name": "stdout",
          "text": [
            "taawkcbe  tgestrcoeeA\n",
            "------------\n",
            "ot emoc\n"
          ]
        }
      ]
    },
    {
      "cell_type": "markdown",
      "source": [
        "Q16)Write a python code to get desired output; Input string : p_phrase = \"was it a car or a cat I saw\"; Output string : WAS I TAC A RO RAC A TI SAW"
      ],
      "metadata": {
        "id": "DRPtEMPKStdg"
      }
    },
    {
      "cell_type": "code",
      "source": [
        "p_phrase=\"was it a car or a cat I saw\"\n",
        "str22=p_phrase.upper()\n",
        "print(str22[::-1])"
      ],
      "metadata": {
        "colab": {
          "base_uri": "https://localhost:8080/"
        },
        "id": "U6VyaD4bSoaQ",
        "outputId": "8e6c07a9-232e-4ea0-da18-4ca1feecb877"
      },
      "execution_count": 37,
      "outputs": [
        {
          "output_type": "stream",
          "name": "stdout",
          "text": [
            "WAS I TAC A RO RAC A TI SAW\n"
          ]
        }
      ]
    },
    {
      "cell_type": "markdown",
      "source": [
        "Q17). You are required to generate a word similar to ZOO, X and Y that denote the number of Zs and Os respectively. The generated word similar to ZOO where Y= 2 * X. Input X= 2 Output ZZOOOO Input X= 5 Output ZZZZZOOOOOOOOOO"
      ],
      "metadata": {
        "id": "iWJwRHrJS3GG"
      }
    },
    {
      "cell_type": "code",
      "source": [
        "x=int(input(\"Enter a number=\"))\n",
        "y=2*x\n",
        "print('x=',x)\n",
        "print('y=',y)\n",
        "print('Z'*x,'O'*y,sep='')"
      ],
      "metadata": {
        "colab": {
          "base_uri": "https://localhost:8080/"
        },
        "id": "QEZ0F12NSzNm",
        "outputId": "b13ecdd2-db92-4a3d-eb94-7b5636bd9f26"
      },
      "execution_count": 38,
      "outputs": [
        {
          "output_type": "stream",
          "name": "stdout",
          "text": [
            "Enter a number=2\n",
            "x= 2\n",
            "y= 4\n",
            "ZZOOOO\n"
          ]
        }
      ]
    },
    {
      "cell_type": "code",
      "source": [
        ""
      ],
      "metadata": {
        "id": "CzOD1XD9S8C2"
      },
      "execution_count": 38,
      "outputs": []
    }
  ]
}